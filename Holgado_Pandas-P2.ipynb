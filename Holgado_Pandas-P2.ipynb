{
 "cells": [
  {
   "cell_type": "code",
   "execution_count": 9,
   "id": "b10202b1-d5fc-44a3-954b-84a72a413f51",
   "metadata": {},
   "outputs": [
    {
     "data": {
      "text/html": [
       "<div>\n",
       "<style scoped>\n",
       "    .dataframe tbody tr th:only-of-type {\n",
       "        vertical-align: middle;\n",
       "    }\n",
       "\n",
       "    .dataframe tbody tr th {\n",
       "        vertical-align: top;\n",
       "    }\n",
       "\n",
       "    .dataframe thead th {\n",
       "        text-align: right;\n",
       "    }\n",
       "</style>\n",
       "<table border=\"1\" class=\"dataframe\">\n",
       "  <thead>\n",
       "    <tr style=\"text-align: right;\">\n",
       "      <th></th>\n",
       "      <th>Model</th>\n",
       "      <th>cyl</th>\n",
       "      <th>gear</th>\n",
       "    </tr>\n",
       "  </thead>\n",
       "  <tbody>\n",
       "    <tr>\n",
       "      <th>1</th>\n",
       "      <td>Mazda RX4 Wag</td>\n",
       "      <td>6</td>\n",
       "      <td>4</td>\n",
       "    </tr>\n",
       "    <tr>\n",
       "      <th>28</th>\n",
       "      <td>Ford Pantera L</td>\n",
       "      <td>8</td>\n",
       "      <td>5</td>\n",
       "    </tr>\n",
       "    <tr>\n",
       "      <th>18</th>\n",
       "      <td>Honda Civic</td>\n",
       "      <td>4</td>\n",
       "      <td>4</td>\n",
       "    </tr>\n",
       "  </tbody>\n",
       "</table>\n",
       "</div>"
      ],
      "text/plain": [
       "             Model  cyl  gear\n",
       "1    Mazda RX4 Wag    6     4\n",
       "28  Ford Pantera L    8     5\n",
       "18     Honda Civic    4     4"
      ]
     },
     "execution_count": 9,
     "metadata": {},
     "output_type": "execute_result"
    }
   ],
   "source": [
    "# Problem#2: Use subsetting, slicing and indexing operations to extract data from the provided data\n",
    "\n",
    "#access the pandas library\n",
    "import pandas as pd\n",
    "\n",
    "#Get the data from the cars.csv\n",
    "df = pd.read_csv(\"cars.csv\")\n",
    "\n",
    "# a) Display the first five rows with odd-numbered columns \n",
    "#use an .iloc feature which lets me set ranges that are positioned based\n",
    "df.iloc[0:5,[1,3,5,7,9,11]]\n",
    "\n",
    "# b) Display the row that contains the ‘Model’ of ‘Mazda RX4’.\n",
    "# use an .iloc again since I prefer using position based \n",
    "# this can be read as [row 0:row1,all columns]\n",
    "df.iloc[0:1,:]\n",
    "\n",
    "# c) How many cylinders (‘cyl’) does the car model ‘Camaro Z28’ have?\n",
    "#use loc to vary using loc and iloc\n",
    "# can be read as [row number,\"column name\"]\n",
    "df.loc [23,\"cyl\"]\n",
    "\n",
    "# d) Determine how many cylinders (‘cyl’) and what gear type (‘gear’) do the car models ‘Mazda RX4 Wag’, ‘Ford Pantera L’ and ‘Honda Civic’ have.\n",
    "\n",
    "df.loc[[1,28,18],[\"Model\",\"cyl\",\"gear\"]]\n"
   ]
  },
  {
   "cell_type": "code",
   "execution_count": null,
   "id": "bbcac987-155b-4851-bf65-0b288b251ea4",
   "metadata": {},
   "outputs": [],
   "source": []
  }
 ],
 "metadata": {
  "kernelspec": {
   "display_name": "Python 3 (ipykernel)",
   "language": "python",
   "name": "python3"
  },
  "language_info": {
   "codemirror_mode": {
    "name": "ipython",
    "version": 3
   },
   "file_extension": ".py",
   "mimetype": "text/x-python",
   "name": "python",
   "nbconvert_exporter": "python",
   "pygments_lexer": "ipython3",
   "version": "3.13.5"
  }
 },
 "nbformat": 4,
 "nbformat_minor": 5
}
